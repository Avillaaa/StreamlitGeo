{
  "cells": [
    {
      "cell_type": "code",
      "execution_count": 11,
      "metadata": {
        "id": "c-Eplk97o3V4"
      },
      "outputs": [],
      "source": [
        "from geopy.exc import GeocoderTimedOut, GeocoderServiceError  # Tambahkan impor ini\n",
        "from geopy.geocoders import Nominatim\n",
        "import pandas as pd\n",
        "from tqdm import tqdm\n",
        "import time\n"
      ]
    },
    {
      "cell_type": "code",
      "execution_count": 12,
      "metadata": {
        "id": "cJ7CmA3hqkbD"
      },
      "outputs": [],
      "source": [
        "df = pd.read_excel(\"KODE NEGARA-PROVINSI-KOTA-KEC-KEL KUNJUNGAN RAJAL FEB 2025.xlsx\")\n",
        "df = df.head(10000)"
      ]
    },
    {
      "cell_type": "code",
      "execution_count": 13,
      "metadata": {
        "colab": {
          "base_uri": "https://localhost:8080/",
          "height": 1000
        },
        "id": "ilDwAoEefo95",
        "outputId": "c0d76783-7e13-4365-9a24-787b4f75acd2"
      },
      "outputs": [
        {
          "name": "stderr",
          "output_type": "stream",
          "text": [
            "  0%|          | 0/10000 [00:00<?, ?it/s]"
          ]
        },
        {
          "name": "stderr",
          "output_type": "stream",
          "text": [
            "  1%|▏         | 131/10000 [02:55<3:09:48,  1.15s/it]"
          ]
        },
        {
          "name": "stdout",
          "output_type": "stream",
          "text": [
            "Error: HTTPSConnectionPool(host='nominatim.openstreetmap.org', port=443): Max retries exceeded with url: /search?q=KABUPATEN+TANGERANG%2C+BENCONGAN+INDAH%2C+KELAPA+DUA&format=json&limit=1 (Caused by ReadTimeoutError(\"HTTPSConnectionPool(host='nominatim.openstreetmap.org', port=443): Read timed out. (read timeout=1)\")). Retrying...\n"
          ]
        },
        {
          "name": "stderr",
          "output_type": "stream",
          "text": [
            "  5%|▍         | 458/10000 [10:19<2:47:36,  1.05s/it]"
          ]
        },
        {
          "name": "stdout",
          "output_type": "stream",
          "text": [
            "Error: HTTPSConnectionPool(host='nominatim.openstreetmap.org', port=443): Max retries exceeded with url: /search?q=KABUPATEN+TANGERANG%2C+BENCONGAN%2C+KELAPA+DUA&format=json&limit=1 (Caused by ReadTimeoutError(\"HTTPSConnectionPool(host='nominatim.openstreetmap.org', port=443): Read timed out. (read timeout=1)\")). Retrying...\n"
          ]
        },
        {
          "name": "stderr",
          "output_type": "stream",
          "text": [
            "  5%|▍         | 469/10000 [10:43<4:34:41,  1.73s/it]"
          ]
        },
        {
          "name": "stdout",
          "output_type": "stream",
          "text": [
            "Error: HTTPSConnectionPool(host='nominatim.openstreetmap.org', port=443): Max retries exceeded with url: /search?q=KABUPATEN+TANGERANG%2C+SAGA%2C+BALARAJA&format=json&limit=1 (Caused by ConnectTimeoutError(<urllib3.connection.HTTPSConnection object at 0x0000025108F772D0>, 'Connection to nominatim.openstreetmap.org timed out. (connect timeout=1)')). Retrying...\n"
          ]
        },
        {
          "name": "stderr",
          "output_type": "stream",
          "text": [
            "  5%|▍         | 473/10000 [10:59<6:58:14,  2.63s/it] "
          ]
        },
        {
          "name": "stdout",
          "output_type": "stream",
          "text": [
            "Error: HTTPSConnectionPool(host='nominatim.openstreetmap.org', port=443): Max retries exceeded with url: /search?q=KABUPATEN+TANGERANG%2C+PASAR+KEMIS%2C+PASARKEMIS&format=json&limit=1 (Caused by ConnectTimeoutError(<urllib3.connection.HTTPSConnection object at 0x000002510956FA50>, 'Connection to nominatim.openstreetmap.org timed out. (connect timeout=1)')). Retrying...\n"
          ]
        },
        {
          "name": "stderr",
          "output_type": "stream",
          "text": [
            "  5%|▍         | 488/10000 [11:31<5:41:31,  2.15s/it] "
          ]
        },
        {
          "name": "stdout",
          "output_type": "stream",
          "text": [
            "Error: HTTPSConnectionPool(host='nominatim.openstreetmap.org', port=443): Max retries exceeded with url: /search?q=KOTA+TANGERANG%2C+JATIUWUNG%2C+CIBODAS&format=json&limit=1 (Caused by ConnectTimeoutError(<urllib3.connection.HTTPSConnection object at 0x0000025108F74310>, 'Connection to nominatim.openstreetmap.org timed out. (connect timeout=1)')). Retrying...\n"
          ]
        },
        {
          "name": "stderr",
          "output_type": "stream",
          "text": [
            "  5%|▌         | 503/10000 [12:04<5:05:17,  1.93s/it] "
          ]
        },
        {
          "name": "stdout",
          "output_type": "stream",
          "text": [
            "Error: HTTPSConnectionPool(host='nominatim.openstreetmap.org', port=443): Max retries exceeded with url: /search?q=KOTA+TANGERANG%2C+UWUNG+JAYA%2C+CIBODAS&format=json&limit=1 (Caused by ConnectTimeoutError(<urllib3.connection.HTTPSConnection object at 0x00000251096B52D0>, 'Connection to nominatim.openstreetmap.org timed out. (connect timeout=1)')). Retrying...\n"
          ]
        },
        {
          "name": "stderr",
          "output_type": "stream",
          "text": [
            "  5%|▌         | 505/10000 [12:16<9:56:39,  3.77s/it] "
          ]
        },
        {
          "name": "stdout",
          "output_type": "stream",
          "text": [
            "Error: HTTPSConnectionPool(host='nominatim.openstreetmap.org', port=443): Max retries exceeded with url: /search?q=KABUPATEN+TANGERANG%2C+SINDANG+SARI%2C+PASARKEMIS&format=json&limit=1 (Caused by ReadTimeoutError(\"HTTPSConnectionPool(host='nominatim.openstreetmap.org', port=443): Read timed out. (read timeout=1)\")). Retrying...\n"
          ]
        },
        {
          "name": "stderr",
          "output_type": "stream",
          "text": [
            "  5%|▌         | 506/10000 [12:26<14:51:18,  5.63s/it]"
          ]
        },
        {
          "name": "stdout",
          "output_type": "stream",
          "text": [
            "Error: HTTPSConnectionPool(host='nominatim.openstreetmap.org', port=443): Max retries exceeded with url: /search?q=KABUPATEN+TANGERANG%2C+KUTA+BUMI%2C+PASARKEMIS&format=json&limit=1 (Caused by ConnectTimeoutError(<urllib3.connection.HTTPSConnection object at 0x0000025109D739D0>, 'Connection to nominatim.openstreetmap.org timed out. (connect timeout=1)')). Retrying...\n"
          ]
        },
        {
          "name": "stderr",
          "output_type": "stream",
          "text": [
            "  5%|▌         | 511/10000 [12:42<7:30:20,  2.85s/it] "
          ]
        },
        {
          "name": "stdout",
          "output_type": "stream",
          "text": [
            "Error: HTTPSConnectionPool(host='nominatim.openstreetmap.org', port=443): Max retries exceeded with url: /search?q=KOTA+TANGERANG%2C+NAMBOJAYA%2C+KARAWACI&format=json&limit=1 (Caused by ConnectTimeoutError(<urllib3.connection.HTTPSConnection object at 0x0000025108B7EFD0>, 'Connection to nominatim.openstreetmap.org timed out. (connect timeout=1)')). Retrying...\n"
          ]
        },
        {
          "name": "stderr",
          "output_type": "stream",
          "text": [
            "  5%|▌         | 515/10000 [12:55<6:42:07,  2.54s/it] "
          ]
        },
        {
          "name": "stdout",
          "output_type": "stream",
          "text": [
            "Error: HTTPSConnectionPool(host='nominatim.openstreetmap.org', port=443): Max retries exceeded with url: /search?q=KOTA+TANGERANG%2C+KRONCONG%2C+JATI+UWUNG&format=json&limit=1 (Caused by ReadTimeoutError(\"HTTPSConnectionPool(host='nominatim.openstreetmap.org', port=443): Read timed out. (read timeout=1)\")). Retrying...\n"
          ]
        },
        {
          "name": "stderr",
          "output_type": "stream",
          "text": [
            "  5%|▌         | 549/10000 [13:54<3:51:08,  1.47s/it] "
          ]
        },
        {
          "name": "stdout",
          "output_type": "stream",
          "text": [
            "Error: HTTPSConnectionPool(host='nominatim.openstreetmap.org', port=443): Max retries exceeded with url: /search?q=KABUPATEN+TANGERANG%2C+BUNDER%2C+CIKUPA&format=json&limit=1 (Caused by ConnectTimeoutError(<urllib3.connection.HTTPSConnection object at 0x0000025108BB67D0>, 'Connection to nominatim.openstreetmap.org timed out. (connect timeout=1)')). Retrying...\n"
          ]
        },
        {
          "name": "stderr",
          "output_type": "stream",
          "text": [
            "  6%|▌         | 557/10000 [14:14<4:18:04,  1.64s/it]"
          ]
        },
        {
          "name": "stdout",
          "output_type": "stream",
          "text": [
            "Error: HTTPSConnectionPool(host='nominatim.openstreetmap.org', port=443): Max retries exceeded with url: /search?q=KOTA+TANGERANG%2C+CIMONE+JAYA%2C+KARAWACI&format=json&limit=1 (Caused by ConnectTimeoutError(<urllib3.connection.HTTPSConnection object at 0x0000025104C31C50>, 'Connection to nominatim.openstreetmap.org timed out. (connect timeout=1)')). Retrying...\n"
          ]
        },
        {
          "name": "stderr",
          "output_type": "stream",
          "text": [
            "  6%|▌         | 562/10000 [14:29<5:24:16,  2.06s/it]"
          ]
        },
        {
          "name": "stdout",
          "output_type": "stream",
          "text": [
            "Error: HTTPSConnectionPool(host='nominatim.openstreetmap.org', port=443): Max retries exceeded with url: /search?q=KABUPATEN+TANGERANG%2C+SUKA+HARJA%2C+SINDANG+JAYA&format=json&limit=1 (Caused by ConnectTimeoutError(<urllib3.connection.HTTPSConnection object at 0x0000025108EAA690>, 'Connection to nominatim.openstreetmap.org timed out. (connect timeout=1)')). Retrying...\n"
          ]
        },
        {
          "name": "stderr",
          "output_type": "stream",
          "text": [
            "  6%|▌         | 568/10000 [14:49<6:52:43,  2.63s/it] "
          ]
        },
        {
          "name": "stdout",
          "output_type": "stream",
          "text": [
            "Error: HTTPSConnectionPool(host='nominatim.openstreetmap.org', port=443): Max retries exceeded with url: /search?q=KOTA+TANGERANG%2C+CIBODAS%2C+CIBODAS&format=json&limit=1 (Caused by ReadTimeoutError(\"HTTPSConnectionPool(host='nominatim.openstreetmap.org', port=443): Read timed out. (read timeout=1)\")). Retrying...\n"
          ]
        },
        {
          "name": "stderr",
          "output_type": "stream",
          "text": [
            "  6%|▌         | 572/10000 [15:01<5:51:37,  2.24s/it] "
          ]
        },
        {
          "name": "stdout",
          "output_type": "stream",
          "text": [
            "Error: HTTPSConnectionPool(host='nominatim.openstreetmap.org', port=443): Max retries exceeded with url: /search?q=KOTA+TANGERANG%2C+CIBODAS+BARU%2C+CIBODAS&format=json&limit=1 (Caused by ReadTimeoutError(\"HTTPSConnectionPool(host='nominatim.openstreetmap.org', port=443): Read timed out. (read timeout=1)\")). Retrying...\n"
          ]
        },
        {
          "name": "stderr",
          "output_type": "stream",
          "text": [
            "  8%|▊         | 832/10000 [20:48<3:16:33,  1.29s/it] "
          ]
        },
        {
          "name": "stdout",
          "output_type": "stream",
          "text": [
            "Error: HTTPSConnectionPool(host='nominatim.openstreetmap.org', port=443): Max retries exceeded with url: /search?q=KABUPATEN+TANGERANG%2C+SERDANG+WETAN%2C+LEGOK&format=json&limit=1 (Caused by ConnectTimeoutError(<urllib3.connection.HTTPSConnection object at 0x0000025109107290>, 'Connection to nominatim.openstreetmap.org timed out. (connect timeout=1)')). Retrying...\n"
          ]
        },
        {
          "name": "stderr",
          "output_type": "stream",
          "text": [
            " 10%|█         | 1007/10000 [25:00<3:02:02,  1.21s/it]"
          ]
        },
        {
          "name": "stdout",
          "output_type": "stream",
          "text": [
            "Error: HTTPSConnectionPool(host='nominatim.openstreetmap.org', port=443): Max retries exceeded with url: /search?q=KOTA+TANGERANG%2C+GEBANG+RAYA%2C+PERIUK&format=json&limit=1 (Caused by ConnectTimeoutError(<urllib3.connection.HTTPSConnection object at 0x0000025109D9E050>, 'Connection to nominatim.openstreetmap.org timed out. (connect timeout=1)')). Retrying...\n"
          ]
        },
        {
          "name": "stderr",
          "output_type": "stream",
          "text": [
            " 10%|█         | 1009/10000 [25:11<7:29:30,  3.00s/it]"
          ]
        },
        {
          "name": "stdout",
          "output_type": "stream",
          "text": [
            "Error: HTTPSConnectionPool(host='nominatim.openstreetmap.org', port=443): Max retries exceeded with url: /search?q=KABUPATEN+TANGERANG%2C+SUKAASIH%2C+PASARKEMIS&format=json&limit=1 (Caused by ReadTimeoutError(\"HTTPSConnectionPool(host='nominatim.openstreetmap.org', port=443): Read timed out. (read timeout=1)\")). Retrying...\n"
          ]
        },
        {
          "name": "stderr",
          "output_type": "stream",
          "text": [
            " 13%|█▎        | 1271/10000 [31:16<3:08:18,  1.29s/it] "
          ]
        },
        {
          "name": "stdout",
          "output_type": "stream",
          "text": [
            "Error: HTTPSConnectionPool(host='nominatim.openstreetmap.org', port=443): Max retries exceeded with url: /search?q=KABUPATEN+TANGERANG%2C+PISANGAN+JAYA%2C+SEPATAN&format=json&limit=1 (Caused by ConnectTimeoutError(<urllib3.connection.HTTPSConnection object at 0x00000251097E1990>, 'Connection to nominatim.openstreetmap.org timed out. (connect timeout=1)')). Retrying...\n"
          ]
        },
        {
          "name": "stderr",
          "output_type": "stream",
          "text": [
            " 14%|█▍        | 1380/10000 [34:06<3:39:53,  1.53s/it]"
          ]
        },
        {
          "name": "stdout",
          "output_type": "stream",
          "text": [
            "Error: HTTPSConnectionPool(host='nominatim.openstreetmap.org', port=443): Max retries exceeded with url: /search?q=KOTA+TANGERANG%2C+BUGEL%2C+KARAWACI&format=json&limit=1 (Caused by ReadTimeoutError(\"HTTPSConnectionPool(host='nominatim.openstreetmap.org', port=443): Read timed out. (read timeout=1)\")). Retrying...\n"
          ]
        },
        {
          "name": "stderr",
          "output_type": "stream",
          "text": [
            " 14%|█▍        | 1397/10000 [34:36<3:40:40,  1.54s/it]"
          ]
        },
        {
          "name": "stdout",
          "output_type": "stream",
          "text": [
            "Error: HTTPSConnectionPool(host='nominatim.openstreetmap.org', port=443): Max retries exceeded with url: /search?q=KABUPATEN+TANGERANG%2C+KUTA+JAYA%2C+PASARKEMIS&format=json&limit=1 (Caused by ConnectTimeoutError(<urllib3.connection.HTTPSConnection object at 0x0000025109525B50>, 'Connection to nominatim.openstreetmap.org timed out. (connect timeout=1)')). Retrying...\n"
          ]
        },
        {
          "name": "stderr",
          "output_type": "stream",
          "text": [
            " 16%|█▌        | 1599/10000 [45:41<5:05:17,  2.18s/it]   "
          ]
        },
        {
          "name": "stdout",
          "output_type": "stream",
          "text": [
            "Error: HTTPSConnectionPool(host='nominatim.openstreetmap.org', port=443): Max retries exceeded with url: /search?q=KOTA+TANGERANG%2C+CIBODAS+BARU%2C+CIBODAS&format=json&limit=1 (Caused by ConnectTimeoutError(<urllib3.connection.HTTPSConnection object at 0x0000025109532E50>, 'Connection to nominatim.openstreetmap.org timed out. (connect timeout=1)')). Retrying...\n"
          ]
        },
        {
          "name": "stderr",
          "output_type": "stream",
          "text": [
            " 16%|█▌        | 1605/10000 [45:56<3:58:18,  1.70s/it]"
          ]
        },
        {
          "name": "stdout",
          "output_type": "stream",
          "text": [
            "Error: HTTPSConnectionPool(host='nominatim.openstreetmap.org', port=443): Max retries exceeded with url: /search?q=KABUPATEN+TANGERANG%2C+PASIR+JAYA%2C+CIKUPA&format=json&limit=1 (Caused by ReadTimeoutError(\"HTTPSConnectionPool(host='nominatim.openstreetmap.org', port=443): Read timed out. (read timeout=1)\")). Retrying...\n"
          ]
        },
        {
          "name": "stderr",
          "output_type": "stream",
          "text": [
            " 17%|█▋        | 1652/10000 [47:08<3:06:16,  1.34s/it]"
          ]
        },
        {
          "name": "stdout",
          "output_type": "stream",
          "text": [
            "Error: HTTPSConnectionPool(host='nominatim.openstreetmap.org', port=443): Max retries exceeded with url: /search?q=KOTA+TANGERANG%2C+CIBODAS%2C+CIBODAS&format=json&limit=1 (Caused by ReadTimeoutError(\"HTTPSConnectionPool(host='nominatim.openstreetmap.org', port=443): Read timed out. (read timeout=1)\")). Retrying...\n"
          ]
        },
        {
          "name": "stderr",
          "output_type": "stream",
          "text": [
            " 18%|█▊        | 1824/10000 [51:17<3:04:44,  1.36s/it]"
          ]
        },
        {
          "name": "stdout",
          "output_type": "stream",
          "text": [
            "Error: HTTPSConnectionPool(host='nominatim.openstreetmap.org', port=443): Max retries exceeded with url: /search?q=KABUPATEN+TANGERANG%2C+GELAM+JAYA%2C+PASARKEMIS&format=json&limit=1 (Caused by ReadTimeoutError(\"HTTPSConnectionPool(host='nominatim.openstreetmap.org', port=443): Read timed out. (read timeout=1)\")). Retrying...\n"
          ]
        },
        {
          "name": "stderr",
          "output_type": "stream",
          "text": [
            " 19%|█▊        | 1864/10000 [52:23<2:36:34,  1.15s/it]"
          ]
        },
        {
          "name": "stdout",
          "output_type": "stream",
          "text": [
            "Error: HTTPSConnectionPool(host='nominatim.openstreetmap.org', port=443): Max retries exceeded with url: /search?q=KOTA+TANGERANG%2C+PEDURENAN%2C+KARANG+TENGAH&format=json&limit=1 (Caused by ConnectTimeoutError(<urllib3.connection.HTTPSConnection object at 0x00000251095CC990>, 'Connection to nominatim.openstreetmap.org timed out. (connect timeout=1)')). Retrying...\n"
          ]
        },
        {
          "name": "stderr",
          "output_type": "stream",
          "text": [
            " 19%|█▊        | 1871/10000 [52:45<4:35:24,  2.03s/it]"
          ]
        },
        {
          "name": "stdout",
          "output_type": "stream",
          "text": [
            "Error: HTTPSConnectionPool(host='nominatim.openstreetmap.org', port=443): Max retries exceeded with url: /search?q=KABUPATEN+TANGERANG%2C+SINDANG+PANON%2C+SINDANG+JAYA&format=json&limit=1 (Caused by ConnectTimeoutError(<urllib3.connection.HTTPSConnection object at 0x000002510951ECD0>, 'Connection to nominatim.openstreetmap.org timed out. (connect timeout=1)')). Retrying...\n"
          ]
        },
        {
          "name": "stderr",
          "output_type": "stream",
          "text": [
            " 19%|█▉        | 1897/10000 [53:35<3:57:56,  1.76s/it]"
          ]
        },
        {
          "name": "stdout",
          "output_type": "stream",
          "text": [
            "Error: HTTPSConnectionPool(host='nominatim.openstreetmap.org', port=443): Max retries exceeded with url: /search?q=KABUPATEN+TANGERANG%2C+PASIR+JAYA%2C+CIKUPA&format=json&limit=1 (Caused by ReadTimeoutError(\"HTTPSConnectionPool(host='nominatim.openstreetmap.org', port=443): Read timed out. (read timeout=1)\")). Retrying...\n"
          ]
        },
        {
          "name": "stderr",
          "output_type": "stream",
          "text": [
            " 19%|█▉        | 1919/10000 [54:15<3:21:44,  1.50s/it]"
          ]
        },
        {
          "name": "stdout",
          "output_type": "stream",
          "text": [
            "Error: HTTPSConnectionPool(host='nominatim.openstreetmap.org', port=443): Max retries exceeded with url: /search?q=KOTA+PEKANBARU%2C+MAHARATU%2C+MARPOYAN+DAMAI&format=json&limit=1 (Caused by ReadTimeoutError(\"HTTPSConnectionPool(host='nominatim.openstreetmap.org', port=443): Read timed out. (read timeout=1)\")). Retrying...\n"
          ]
        },
        {
          "name": "stderr",
          "output_type": "stream",
          "text": [
            " 19%|█▉        | 1930/10000 [54:40<3:35:02,  1.60s/it]"
          ]
        },
        {
          "name": "stdout",
          "output_type": "stream",
          "text": [
            "Error: HTTPSConnectionPool(host='nominatim.openstreetmap.org', port=443): Max retries exceeded with url: /search?q=KABUPATEN+TANGERANG%2C+PASAR+KEMIS%2C+PASARKEMIS&format=json&limit=1 (Caused by ReadTimeoutError(\"HTTPSConnectionPool(host='nominatim.openstreetmap.org', port=443): Read timed out. (read timeout=1)\")). Retrying...\n"
          ]
        },
        {
          "name": "stderr",
          "output_type": "stream",
          "text": [
            " 19%|█▉        | 1943/10000 [55:11<4:36:08,  2.06s/it]"
          ]
        },
        {
          "name": "stdout",
          "output_type": "stream",
          "text": [
            "Error: HTTPSConnectionPool(host='nominatim.openstreetmap.org', port=443): Max retries exceeded with url: /search?q=KOTA+TANGERANG%2C+GANDASARI%2C+JATI+UWUNG&format=json&limit=1 (Caused by ReadTimeoutError(\"HTTPSConnectionPool(host='nominatim.openstreetmap.org', port=443): Read timed out. (read timeout=1)\")). Retrying...\n"
          ]
        },
        {
          "name": "stderr",
          "output_type": "stream",
          "text": [
            " 22%|██▏       | 2193/10000 [1:00:41<4:08:46,  1.91s/it]"
          ]
        },
        {
          "name": "stdout",
          "output_type": "stream",
          "text": [
            "Error: HTTPSConnectionPool(host='nominatim.openstreetmap.org', port=443): Max retries exceeded with url: /search?q=KOTA+TANGERANG%2C+GANDASARI%2C+JATI+UWUNG&format=json&limit=1 (Caused by ReadTimeoutError(\"HTTPSConnectionPool(host='nominatim.openstreetmap.org', port=443): Read timed out. (read timeout=1)\")). Retrying...\n"
          ]
        },
        {
          "name": "stderr",
          "output_type": "stream",
          "text": [
            " 23%|██▎       | 2303/10000 [1:03:23<2:21:09,  1.10s/it]"
          ]
        },
        {
          "name": "stdout",
          "output_type": "stream",
          "text": [
            "Error: HTTPSConnectionPool(host='nominatim.openstreetmap.org', port=443): Max retries exceeded with url: /search?q=KOTA+TANGERANG%2C+CIBODAS%2C+CIBODAS&format=json&limit=1 (Caused by ConnectTimeoutError(<urllib3.connection.HTTPSConnection object at 0x00000251091CE850>, 'Connection to nominatim.openstreetmap.org timed out. (connect timeout=1)')). Retrying...\n"
          ]
        },
        {
          "name": "stderr",
          "output_type": "stream",
          "text": [
            " 23%|██▎       | 2324/10000 [1:04:03<3:48:45,  1.79s/it]"
          ]
        },
        {
          "name": "stdout",
          "output_type": "stream",
          "text": [
            "Error: HTTPSConnectionPool(host='nominatim.openstreetmap.org', port=443): Max retries exceeded with url: /search?q=KABUPATEN+TANGERANG%2C+KUTA+JAYA%2C+PASARKEMIS&format=json&limit=1 (Caused by ConnectTimeoutError(<urllib3.connection.HTTPSConnection object at 0x0000025105539F90>, 'Connection to nominatim.openstreetmap.org timed out. (connect timeout=1)')). Retrying...\n"
          ]
        },
        {
          "name": "stderr",
          "output_type": "stream",
          "text": [
            " 24%|██▎       | 2367/10000 [1:05:12<2:24:13,  1.13s/it] "
          ]
        },
        {
          "name": "stdout",
          "output_type": "stream",
          "text": [
            "Error: HTTPSConnectionPool(host='nominatim.openstreetmap.org', port=443): Max retries exceeded with url: /search?q=KOTA+TANGERANG%2C+MARGASARI%2C+KARAWACI&format=json&limit=1 (Caused by ReadTimeoutError(\"HTTPSConnectionPool(host='nominatim.openstreetmap.org', port=443): Read timed out. (read timeout=1)\")). Retrying...\n"
          ]
        },
        {
          "name": "stderr",
          "output_type": "stream",
          "text": [
            " 26%|██▌       | 2612/10000 [1:10:43<2:42:32,  1.32s/it]"
          ]
        },
        {
          "name": "stdout",
          "output_type": "stream",
          "text": [
            "Error: HTTPSConnectionPool(host='nominatim.openstreetmap.org', port=443): Max retries exceeded with url: /search?q=KOTA+TANGERANG%2C+NAMBOJAYA%2C+KARAWACI&format=json&limit=1 (Caused by ConnectTimeoutError(<urllib3.connection.HTTPSConnection object at 0x0000025104B572D0>, 'Connection to nominatim.openstreetmap.org timed out. (connect timeout=1)')). Retrying...\n"
          ]
        },
        {
          "name": "stderr",
          "output_type": "stream",
          "text": [
            " 26%|██▌       | 2617/10000 [1:10:58<4:04:44,  1.99s/it]"
          ]
        },
        {
          "name": "stdout",
          "output_type": "stream",
          "text": [
            "Error: HTTPSConnectionPool(host='nominatim.openstreetmap.org', port=443): Max retries exceeded with url: /search?q=KABUPATEN+TANGERANG%2C+BOJONG+NANGKA%2C+KELAPA+DUA&format=json&limit=1 (Caused by ReadTimeoutError(\"HTTPSConnectionPool(host='nominatim.openstreetmap.org', port=443): Read timed out. (read timeout=1)\")). Retrying...\n"
          ]
        },
        {
          "name": "stderr",
          "output_type": "stream",
          "text": [
            " 27%|██▋       | 2668/10000 [1:12:24<3:11:51,  1.57s/it]"
          ]
        },
        {
          "name": "stdout",
          "output_type": "stream",
          "text": [
            "Error: HTTPSConnectionPool(host='nominatim.openstreetmap.org', port=443): Max retries exceeded with url: /search?q=KOTA+TANGERANG%2C+GEBANG+RAYA%2C+PERIUK&format=json&limit=1 (Caused by ConnectTimeoutError(<urllib3.connection.HTTPSConnection object at 0x00000251091C1D50>, 'Connection to nominatim.openstreetmap.org timed out. (connect timeout=1)')). Retrying...\n"
          ]
        },
        {
          "name": "stderr",
          "output_type": "stream",
          "text": [
            " 27%|██▋       | 2693/10000 [1:13:07<2:37:50,  1.30s/it]"
          ]
        },
        {
          "name": "stdout",
          "output_type": "stream",
          "text": [
            "Error: HTTPSConnectionPool(host='nominatim.openstreetmap.org', port=443): Max retries exceeded with url: /search?q=KOTA+TANGERANG%2C+KRONCONG%2C+JATI+UWUNG&format=json&limit=1 (Caused by ReadTimeoutError(\"HTTPSConnectionPool(host='nominatim.openstreetmap.org', port=443): Read timed out. (read timeout=1)\")). Retrying...\n"
          ]
        },
        {
          "name": "stderr",
          "output_type": "stream",
          "text": [
            " 27%|██▋       | 2724/10000 [1:14:04<3:25:44,  1.70s/it]"
          ]
        },
        {
          "name": "stdout",
          "output_type": "stream",
          "text": [
            "Error: HTTPSConnectionPool(host='nominatim.openstreetmap.org', port=443): Max retries exceeded with url: /search?q=KOTA+TANGERANG%2C+GEBANG+RAYA%2C+PERIUK&format=json&limit=1 (Caused by ConnectTimeoutError(<urllib3.connection.HTTPSConnection object at 0x00000251095BB910>, 'Connection to nominatim.openstreetmap.org timed out. (connect timeout=1)')). Retrying...\n"
          ]
        },
        {
          "name": "stderr",
          "output_type": "stream",
          "text": [
            " 27%|██▋       | 2727/10000 [1:14:16<5:04:07,  2.51s/it]"
          ]
        },
        {
          "name": "stdout",
          "output_type": "stream",
          "text": [
            "Error: HTTPSConnectionPool(host='nominatim.openstreetmap.org', port=443): Max retries exceeded with url: /search?q=KABUPATEN+TANGERANG%2C+BINONG%2C+CURUG&format=json&limit=1 (Caused by ReadTimeoutError(\"HTTPSConnectionPool(host='nominatim.openstreetmap.org', port=443): Read timed out. (read timeout=1)\")). Retrying...\n"
          ]
        },
        {
          "name": "stderr",
          "output_type": "stream",
          "text": [
            " 27%|██▋       | 2730/10000 [1:14:29<6:01:57,  2.99s/it] "
          ]
        },
        {
          "name": "stdout",
          "output_type": "stream",
          "text": [
            "Error: HTTPSConnectionPool(host='nominatim.openstreetmap.org', port=443): Max retries exceeded with url: /search?q=KABUPATEN+TANGERANG%2C+PASIR+JAYA%2C+CIKUPA&format=json&limit=1 (Caused by ReadTimeoutError(\"HTTPSConnectionPool(host='nominatim.openstreetmap.org', port=443): Read timed out. (read timeout=1)\")). Retrying...\n"
          ]
        },
        {
          "name": "stderr",
          "output_type": "stream",
          "text": [
            " 27%|██▋       | 2732/10000 [1:14:42<9:09:10,  4.53s/it] "
          ]
        },
        {
          "name": "stdout",
          "output_type": "stream",
          "text": [
            "Error: HTTPSConnectionPool(host='nominatim.openstreetmap.org', port=443): Max retries exceeded with url: /search?q=KABUPATEN+TANGERANG%2C+BELIMBING%2C+KOSAMBI&format=json&limit=1 (Caused by ConnectTimeoutError(<urllib3.connection.HTTPSConnection object at 0x000002510679DF10>, 'Connection to nominatim.openstreetmap.org timed out. (connect timeout=1)')). Retrying...\n"
          ]
        },
        {
          "name": "stderr",
          "output_type": "stream",
          "text": [
            " 27%|██▋       | 2733/10000 [1:14:52<11:53:41,  5.89s/it]"
          ]
        },
        {
          "name": "stdout",
          "output_type": "stream",
          "text": [
            "Error: HTTPSConnectionPool(host='nominatim.openstreetmap.org', port=443): Max retries exceeded with url: /search?q=KABUPATEN+TANGERANG%2C+MEKARSARI%2C+RAJEG&format=json&limit=1 (Caused by ConnectTimeoutError(<urllib3.connection.HTTPSConnection object at 0x0000025104C9D950>, 'Connection to nominatim.openstreetmap.org timed out. (connect timeout=1)')). Retrying...\n"
          ]
        },
        {
          "name": "stderr",
          "output_type": "stream",
          "text": [
            " 27%|██▋       | 2738/10000 [1:15:07<5:40:08,  2.81s/it] "
          ]
        },
        {
          "name": "stdout",
          "output_type": "stream",
          "text": [
            "Error: HTTPSConnectionPool(host='nominatim.openstreetmap.org', port=443): Max retries exceeded with url: /search?q=KABUPATEN+TANGERANG%2C+MEDANG%2C+PAGEDANGAN&format=json&limit=1 (Caused by ConnectTimeoutError(<urllib3.connection.HTTPSConnection object at 0x0000025109119310>, 'Connection to nominatim.openstreetmap.org timed out. (connect timeout=1)')). Retrying...\n"
          ]
        },
        {
          "name": "stderr",
          "output_type": "stream",
          "text": [
            " 27%|██▋       | 2741/10000 [1:15:19<6:03:30,  3.00s/it]"
          ]
        },
        {
          "name": "stdout",
          "output_type": "stream",
          "text": [
            "Error: HTTPSConnectionPool(host='nominatim.openstreetmap.org', port=443): Max retries exceeded with url: /search?q=KABUPATEN+TANGERANG%2C+PASAR+KEMIS%2C+PASARKEMIS&format=json&limit=1 (Caused by ConnectTimeoutError(<urllib3.connection.HTTPSConnection object at 0x0000025104635A50>, 'Connection to nominatim.openstreetmap.org timed out. (connect timeout=1)')). Retrying...\n"
          ]
        },
        {
          "name": "stderr",
          "output_type": "stream",
          "text": [
            " 30%|███       | 3020/10000 [1:21:23<2:40:36,  1.38s/it]"
          ]
        },
        {
          "name": "stdout",
          "output_type": "stream",
          "text": [
            "Error: HTTPSConnectionPool(host='nominatim.openstreetmap.org', port=443): Max retries exceeded with url: /search?q=KABUPATEN+TANGERANG%2C+KUTA+JAYA%2C+PASARKEMIS&format=json&limit=1 (Caused by ReadTimeoutError(\"HTTPSConnectionPool(host='nominatim.openstreetmap.org', port=443): Read timed out. (read timeout=1)\")). Retrying...\n"
          ]
        },
        {
          "name": "stderr",
          "output_type": "stream",
          "text": [
            " 30%|███       | 3037/10000 [1:21:54<2:27:37,  1.27s/it]"
          ]
        },
        {
          "name": "stdout",
          "output_type": "stream",
          "text": [
            "Error: HTTPSConnectionPool(host='nominatim.openstreetmap.org', port=443): Max retries exceeded with url: /search?q=KOTA+TANGERANG%2C+GEBANG+RAYA%2C+PERIUK&format=json&limit=1 (Caused by ReadTimeoutError(\"HTTPSConnectionPool(host='nominatim.openstreetmap.org', port=443): Read timed out. (read timeout=1)\")). Retrying...\n"
          ]
        },
        {
          "name": "stderr",
          "output_type": "stream",
          "text": [
            " 31%|███       | 3101/10000 [1:23:32<2:03:32,  1.07s/it]"
          ]
        },
        {
          "name": "stdout",
          "output_type": "stream",
          "text": [
            "Error: HTTPSConnectionPool(host='nominatim.openstreetmap.org', port=443): Max retries exceeded with url: /search?q=KABUPATEN+TANGERANG%2C+MEKARSARI%2C+RAJEG&format=json&limit=1 (Caused by ReadTimeoutError(\"HTTPSConnectionPool(host='nominatim.openstreetmap.org', port=443): Read timed out. (read timeout=1)\")). Retrying...\n"
          ]
        },
        {
          "name": "stderr",
          "output_type": "stream",
          "text": [
            " 57%|█████▋    | 5705/10000 [2:21:36<1:53:41,  1.59s/it]"
          ]
        },
        {
          "name": "stdout",
          "output_type": "stream",
          "text": [
            "Error: HTTPSConnectionPool(host='nominatim.openstreetmap.org', port=443): Max retries exceeded with url: /search?q=KOTA+TANGERANG%2C+BUARAN+INDAH%2C+TANGERANG&format=json&limit=1 (Caused by ReadTimeoutError(\"HTTPSConnectionPool(host='nominatim.openstreetmap.org', port=443): Read timed out. (read timeout=1)\")). Retrying...\n"
          ]
        },
        {
          "name": "stderr",
          "output_type": "stream",
          "text": [
            " 58%|█████▊    | 5782/10000 [2:23:41<1:47:07,  1.52s/it]"
          ]
        },
        {
          "name": "stdout",
          "output_type": "stream",
          "text": [
            "Error: HTTPSConnectionPool(host='nominatim.openstreetmap.org', port=443): Max retries exceeded with url: /search?q=KOTA+TANGERANG%2C+SUMUR+PACING%2C+KARAWACI&format=json&limit=1 (Caused by ConnectTimeoutError(<urllib3.connection.HTTPSConnection object at 0x00000251091E0190>, 'Connection to nominatim.openstreetmap.org timed out. (connect timeout=1)')). Retrying...\n"
          ]
        },
        {
          "name": "stderr",
          "output_type": "stream",
          "text": [
            " 58%|█████▊    | 5793/10000 [2:24:04<1:51:30,  1.59s/it]"
          ]
        },
        {
          "name": "stdout",
          "output_type": "stream",
          "text": [
            "Error: HTTPSConnectionPool(host='nominatim.openstreetmap.org', port=443): Max retries exceeded with url: /search?q=KOTA+TANGERANG%2C+CIBODAS+BARU%2C+CIBODAS&format=json&limit=1 (Caused by ReadTimeoutError(\"HTTPSConnectionPool(host='nominatim.openstreetmap.org', port=443): Read timed out. (read timeout=1)\")). Retrying...\n"
          ]
        },
        {
          "name": "stderr",
          "output_type": "stream",
          "text": [
            " 58%|█████▊    | 5797/10000 [2:24:17<2:26:26,  2.09s/it]"
          ]
        },
        {
          "name": "stdout",
          "output_type": "stream",
          "text": [
            "Error: HTTPSConnectionPool(host='nominatim.openstreetmap.org', port=443): Max retries exceeded with url: /search?q=KABUPATEN+TANGERANG%2C+KAYU+AGUNG%2C+SEPATAN&format=json&limit=1 (Caused by ReadTimeoutError(\"HTTPSConnectionPool(host='nominatim.openstreetmap.org', port=443): Read timed out. (read timeout=1)\")). Retrying...\n"
          ]
        },
        {
          "name": "stderr",
          "output_type": "stream",
          "text": [
            " 59%|█████▊    | 5864/10000 [2:26:08<1:22:07,  1.19s/it]"
          ]
        },
        {
          "name": "stdout",
          "output_type": "stream",
          "text": [
            "Error: HTTPSConnectionPool(host='nominatim.openstreetmap.org', port=443): Max retries exceeded with url: /search?q=KOTA+TANGERANG%2C+PABUARAN+TUMPENG%2C+KARAWACI&format=json&limit=1 (Caused by ReadTimeoutError(\"HTTPSConnectionPool(host='nominatim.openstreetmap.org', port=443): Read timed out. (read timeout=1)\")). Retrying...\n"
          ]
        },
        {
          "name": "stderr",
          "output_type": "stream",
          "text": [
            " 59%|█████▉    | 5923/10000 [2:27:47<1:40:47,  1.48s/it]"
          ]
        },
        {
          "name": "stdout",
          "output_type": "stream",
          "text": [
            "Error: HTTPSConnectionPool(host='nominatim.openstreetmap.org', port=443): Max retries exceeded with url: /search?q=KABUPATEN+TANGERANG%2C+CIAKAR%2C+PANONGAN&format=json&limit=1 (Caused by ReadTimeoutError(\"HTTPSConnectionPool(host='nominatim.openstreetmap.org', port=443): Read timed out. (read timeout=1)\")). Retrying...\n"
          ]
        },
        {
          "name": "stderr",
          "output_type": "stream",
          "text": [
            " 59%|█████▉    | 5948/10000 [2:28:36<1:33:18,  1.38s/it]"
          ]
        },
        {
          "name": "stdout",
          "output_type": "stream",
          "text": [
            "Error: HTTPSConnectionPool(host='nominatim.openstreetmap.org', port=443): Max retries exceeded with url: /search?q=KOTA+TANGERANG%2C+GEBANG+RAYA%2C+PERIUK&format=json&limit=1 (Caused by ConnectTimeoutError(<urllib3.connection.HTTPSConnection object at 0x00000251092CBBD0>, 'Connection to nominatim.openstreetmap.org timed out. (connect timeout=1)')). Retrying...\n"
          ]
        },
        {
          "name": "stderr",
          "output_type": "stream",
          "text": [
            " 61%|██████    | 6072/10000 [2:31:43<1:39:30,  1.52s/it]"
          ]
        },
        {
          "name": "stdout",
          "output_type": "stream",
          "text": [
            "Error: HTTPSConnectionPool(host='nominatim.openstreetmap.org', port=443): Max retries exceeded with url: /search?q=KABUPATEN+PADANG+PARIAMAN%2C+BATU+KALANG%2C+PADANG+SAGO&format=json&limit=1 (Caused by ReadTimeoutError(\"HTTPSConnectionPool(host='nominatim.openstreetmap.org', port=443): Read timed out. (read timeout=1)\")). Retrying...\n"
          ]
        },
        {
          "name": "stderr",
          "output_type": "stream",
          "text": [
            " 62%|██████▏   | 6151/10000 [2:33:38<1:53:29,  1.77s/it]"
          ]
        },
        {
          "name": "stdout",
          "output_type": "stream",
          "text": [
            "Error: HTTPSConnectionPool(host='nominatim.openstreetmap.org', port=443): Max retries exceeded with url: /search?q=KOTA+TANGERANG%2C+CIMONE%2C+KARAWACI&format=json&limit=1 (Caused by ReadTimeoutError(\"HTTPSConnectionPool(host='nominatim.openstreetmap.org', port=443): Read timed out. (read timeout=1)\")). Retrying...\n"
          ]
        },
        {
          "name": "stderr",
          "output_type": "stream",
          "text": [
            " 62%|██████▏   | 6165/10000 [2:34:07<1:20:24,  1.26s/it]"
          ]
        },
        {
          "name": "stdout",
          "output_type": "stream",
          "text": [
            "Error: HTTPSConnectionPool(host='nominatim.openstreetmap.org', port=443): Max retries exceeded with url: /search?q=KOTA+TANGERANG%2C+PASIR+JAYA%2C+JATI+UWUNG&format=json&limit=1 (Caused by ReadTimeoutError(\"HTTPSConnectionPool(host='nominatim.openstreetmap.org', port=443): Read timed out. (read timeout=1)\")). Retrying...\n"
          ]
        },
        {
          "name": "stderr",
          "output_type": "stream",
          "text": [
            " 62%|██████▏   | 6173/10000 [2:34:25<1:37:09,  1.52s/it]"
          ]
        },
        {
          "name": "stdout",
          "output_type": "stream",
          "text": [
            "Error: HTTPSConnectionPool(host='nominatim.openstreetmap.org', port=443): Max retries exceeded with url: /search?q=KOTA+TANGERANG%2C+GEBANG+RAYA%2C+PERIUK&format=json&limit=1 (Caused by ReadTimeoutError(\"HTTPSConnectionPool(host='nominatim.openstreetmap.org', port=443): Read timed out. (read timeout=1)\")). Retrying...\n"
          ]
        },
        {
          "name": "stderr",
          "output_type": "stream",
          "text": [
            "100%|██████████| 10000/10000 [4:01:15<00:00,  1.45s/it] \n"
          ]
        },
        {
          "data": {
            "text/html": [
              "<div>\n",
              "<style scoped>\n",
              "    .dataframe tbody tr th:only-of-type {\n",
              "        vertical-align: middle;\n",
              "    }\n",
              "\n",
              "    .dataframe tbody tr th {\n",
              "        vertical-align: top;\n",
              "    }\n",
              "\n",
              "    .dataframe thead th {\n",
              "        text-align: right;\n",
              "    }\n",
              "</style>\n",
              "<table border=\"1\" class=\"dataframe\">\n",
              "  <thead>\n",
              "    <tr style=\"text-align: right;\">\n",
              "      <th></th>\n",
              "      <th>ID REGISTRASI</th>\n",
              "      <th>TANGGAL REGISTRASI</th>\n",
              "      <th>INSTALASI</th>\n",
              "      <th>NO RM</th>\n",
              "      <th>NAMA</th>\n",
              "      <th>UMUR SAAT REGISTRASI</th>\n",
              "      <th>JENIS KELAMIN</th>\n",
              "      <th>KOTA</th>\n",
              "      <th>KECAMATAN</th>\n",
              "      <th>KELURAHAN</th>\n",
              "      <th>...</th>\n",
              "      <th>CITY</th>\n",
              "      <th>DISTRICT</th>\n",
              "      <th>SUB DISTRICT</th>\n",
              "      <th>DOKTER</th>\n",
              "      <th>SPESIALIS</th>\n",
              "      <th>JENIS BPJS</th>\n",
              "      <th>STATUS KUNJUNGAN</th>\n",
              "      <th>PPK PERUJUK</th>\n",
              "      <th>Latitude</th>\n",
              "      <th>Longitude</th>\n",
              "    </tr>\n",
              "  </thead>\n",
              "  <tbody>\n",
              "    <tr>\n",
              "      <th>0</th>\n",
              "      <td>1005201</td>\n",
              "      <td>2025-02-28 22:17:00</td>\n",
              "      <td>Rawat Jalan</td>\n",
              "      <td>1537083</td>\n",
              "      <td>BUDI SUGIARTO</td>\n",
              "      <td>43 th 1 bl 1 hr</td>\n",
              "      <td>Laki-laki</td>\n",
              "      <td>KABUPATEN TANGERANG</td>\n",
              "      <td>KOSAMBI</td>\n",
              "      <td>JATIMULYA</td>\n",
              "      <td>...</td>\n",
              "      <td>3603.0</td>\n",
              "      <td>3603210.0</td>\n",
              "      <td>3.603210e+09</td>\n",
              "      <td>dr. Muslimah, Sp.PK</td>\n",
              "      <td>LABORATORIUM</td>\n",
              "      <td>NON BPJS NON KONTROL</td>\n",
              "      <td>Kunjungan tidak ada pembatalan dan Masih Aktif</td>\n",
              "      <td>PPK PERUJUK LAINNYA</td>\n",
              "      <td>-6.094925</td>\n",
              "      <td>106.689260</td>\n",
              "    </tr>\n",
              "    <tr>\n",
              "      <th>1</th>\n",
              "      <td>1004938</td>\n",
              "      <td>2025-02-28 17:23:00</td>\n",
              "      <td>Rawat Jalan</td>\n",
              "      <td>1556812</td>\n",
              "      <td>NENENG</td>\n",
              "      <td>49 th 6 bl 11 hr</td>\n",
              "      <td>Perempuan</td>\n",
              "      <td>KABUPATEN TANGERANG</td>\n",
              "      <td>KELAPA DUA</td>\n",
              "      <td>BENCONGAN</td>\n",
              "      <td>...</td>\n",
              "      <td>3603.0</td>\n",
              "      <td>3603051.0</td>\n",
              "      <td>3.603051e+09</td>\n",
              "      <td>Mohammad Sjifaa</td>\n",
              "      <td>FISIOTERAPI</td>\n",
              "      <td>BPJS NON KONTROL</td>\n",
              "      <td>Selesai Kunjungan</td>\n",
              "      <td>PUSKESMAS JALAN EMAS</td>\n",
              "      <td>-6.216419</td>\n",
              "      <td>106.604549</td>\n",
              "    </tr>\n",
              "    <tr>\n",
              "      <th>2</th>\n",
              "      <td>1004819</td>\n",
              "      <td>2025-02-28 15:48:00</td>\n",
              "      <td>Rawat Jalan</td>\n",
              "      <td>1150976</td>\n",
              "      <td>TRI OKTAPIAH</td>\n",
              "      <td>45 th 4 bl 3 hr</td>\n",
              "      <td>Perempuan</td>\n",
              "      <td>KABUPATEN TANGERANG</td>\n",
              "      <td>SINDANG JAYA</td>\n",
              "      <td>SINDANG PANON</td>\n",
              "      <td>...</td>\n",
              "      <td>3603.0</td>\n",
              "      <td>3603121.0</td>\n",
              "      <td>3.603121e+09</td>\n",
              "      <td>Mohammad Sjifaa</td>\n",
              "      <td>FISIOTERAPI</td>\n",
              "      <td>BPJS NON KONTROL</td>\n",
              "      <td>Selesai Kunjungan</td>\n",
              "      <td>KLINIK MUTIARA BUNDA (JST)</td>\n",
              "      <td>-6.166967</td>\n",
              "      <td>106.526736</td>\n",
              "    </tr>\n",
              "    <tr>\n",
              "      <th>3</th>\n",
              "      <td>1004707</td>\n",
              "      <td>2025-02-28 14:29:00</td>\n",
              "      <td>Rawat Jalan</td>\n",
              "      <td>1404569</td>\n",
              "      <td>DWI RIYANTO</td>\n",
              "      <td>36 th 4 bl 6 hr</td>\n",
              "      <td>Laki-laki</td>\n",
              "      <td>KOTA JAKARTA SELATAN</td>\n",
              "      <td>CILANDAK</td>\n",
              "      <td>CIPETE SELATAN</td>\n",
              "      <td>...</td>\n",
              "      <td>3171.0</td>\n",
              "      <td>3171030.0</td>\n",
              "      <td>3.171030e+09</td>\n",
              "      <td>Mohammad Sjifaa</td>\n",
              "      <td>FISIOTERAPI</td>\n",
              "      <td>BPJS NON KONTROL</td>\n",
              "      <td>Selesai Kunjungan</td>\n",
              "      <td>PUSKESMAS KOTABUMI</td>\n",
              "      <td>NaN</td>\n",
              "      <td>NaN</td>\n",
              "    </tr>\n",
              "    <tr>\n",
              "      <th>4</th>\n",
              "      <td>1004704</td>\n",
              "      <td>2025-02-28 14:28:00</td>\n",
              "      <td>Rawat Jalan</td>\n",
              "      <td>1307390</td>\n",
              "      <td>MUHAMAD DJAELANI SE,MM</td>\n",
              "      <td>71 th 6 bl 16 hr</td>\n",
              "      <td>Laki-laki</td>\n",
              "      <td>KOTA TANGERANG</td>\n",
              "      <td>CIBODAS</td>\n",
              "      <td>CIBODAS BARU</td>\n",
              "      <td>...</td>\n",
              "      <td>3671.0</td>\n",
              "      <td>3671041.0</td>\n",
              "      <td>3.671041e+09</td>\n",
              "      <td>dr. Isnada Putriani Said,Sp.KK</td>\n",
              "      <td>KULIT &amp;  KELAMIN</td>\n",
              "      <td>BPJS KONTROL</td>\n",
              "      <td>Selesai Kunjungan</td>\n",
              "      <td>PUSKESMAS BAJA</td>\n",
              "      <td>-6.191032</td>\n",
              "      <td>106.602669</td>\n",
              "    </tr>\n",
              "    <tr>\n",
              "      <th>...</th>\n",
              "      <td>...</td>\n",
              "      <td>...</td>\n",
              "      <td>...</td>\n",
              "      <td>...</td>\n",
              "      <td>...</td>\n",
              "      <td>...</td>\n",
              "      <td>...</td>\n",
              "      <td>...</td>\n",
              "      <td>...</td>\n",
              "      <td>...</td>\n",
              "      <td>...</td>\n",
              "      <td>...</td>\n",
              "      <td>...</td>\n",
              "      <td>...</td>\n",
              "      <td>...</td>\n",
              "      <td>...</td>\n",
              "      <td>...</td>\n",
              "      <td>...</td>\n",
              "      <td>...</td>\n",
              "      <td>...</td>\n",
              "      <td>...</td>\n",
              "    </tr>\n",
              "    <tr>\n",
              "      <th>9995</th>\n",
              "      <td>976161</td>\n",
              "      <td>2025-02-22 09:11:00</td>\n",
              "      <td>Rawat Jalan</td>\n",
              "      <td>1506796</td>\n",
              "      <td>INA SULISTIYO PERTIWI</td>\n",
              "      <td>31 th 8 bl 0 hr</td>\n",
              "      <td>Perempuan</td>\n",
              "      <td>KABUPATEN TANGERANG</td>\n",
              "      <td>CURUG</td>\n",
              "      <td>SUKA BAKTI</td>\n",
              "      <td>...</td>\n",
              "      <td>3603.0</td>\n",
              "      <td>3603050.0</td>\n",
              "      <td>3.603050e+09</td>\n",
              "      <td>drg. Anggraeny Putri Sekar Palupi, Sp.BM</td>\n",
              "      <td>BEDAH MULUT</td>\n",
              "      <td>BPJS KONTROL</td>\n",
              "      <td>Selesai Kunjungan</td>\n",
              "      <td>KLINIK IMI</td>\n",
              "      <td>-6.255398</td>\n",
              "      <td>106.577199</td>\n",
              "    </tr>\n",
              "    <tr>\n",
              "      <th>9996</th>\n",
              "      <td>976141</td>\n",
              "      <td>2025-02-15 13:23:00</td>\n",
              "      <td>Rawat Jalan</td>\n",
              "      <td>1317863</td>\n",
              "      <td>DEDDY MULYADI</td>\n",
              "      <td>55 th 9 bl 22 hr</td>\n",
              "      <td>Laki-laki</td>\n",
              "      <td>KOTA TANGERANG</td>\n",
              "      <td>KARAWACI</td>\n",
              "      <td>PABUARAN</td>\n",
              "      <td>...</td>\n",
              "      <td>3671.0</td>\n",
              "      <td>3671031.0</td>\n",
              "      <td>3.671031e+09</td>\n",
              "      <td>dr. Andy Nazarudin Sp.P</td>\n",
              "      <td>PARU</td>\n",
              "      <td>BPJS KONTROL</td>\n",
              "      <td>Selesai Kunjungan</td>\n",
              "      <td>PUSKESMAS BUGEL</td>\n",
              "      <td>-6.190506</td>\n",
              "      <td>106.625546</td>\n",
              "    </tr>\n",
              "    <tr>\n",
              "      <th>9997</th>\n",
              "      <td>972619</td>\n",
              "      <td>2025-02-04 18:24:00</td>\n",
              "      <td>Rawat Jalan</td>\n",
              "      <td>1556917</td>\n",
              "      <td>JONATHAN MULJADI</td>\n",
              "      <td>23 th 4 bl 29 hr</td>\n",
              "      <td>Laki-laki</td>\n",
              "      <td>KABUPATEN TANGERANG</td>\n",
              "      <td>PANONGAN</td>\n",
              "      <td>CIAKAR</td>\n",
              "      <td>...</td>\n",
              "      <td>3603.0</td>\n",
              "      <td>3603040.0</td>\n",
              "      <td>3.603040e+09</td>\n",
              "      <td>dr. Prasetyo Hariadi, SpP</td>\n",
              "      <td>PARU</td>\n",
              "      <td>BPJS NON KONTROL</td>\n",
              "      <td>Selesai Kunjungan</td>\n",
              "      <td>KLINIK DARMA NUSANTARA</td>\n",
              "      <td>-6.281523</td>\n",
              "      <td>106.534493</td>\n",
              "    </tr>\n",
              "    <tr>\n",
              "      <th>9998</th>\n",
              "      <td>972604</td>\n",
              "      <td>2025-02-04 11:26:00</td>\n",
              "      <td>Rawat Jalan</td>\n",
              "      <td>1322643</td>\n",
              "      <td>ITI BINTI ILANG</td>\n",
              "      <td>81 th 1 bl 3 hr</td>\n",
              "      <td>Perempuan</td>\n",
              "      <td>KABUPATEN TANGERANG</td>\n",
              "      <td>PASARKEMIS</td>\n",
              "      <td>SINDANG SARI</td>\n",
              "      <td>...</td>\n",
              "      <td>3603.0</td>\n",
              "      <td>3603120.0</td>\n",
              "      <td>3.603120e+09</td>\n",
              "      <td>Mohammad Sjifaa</td>\n",
              "      <td>FISIOTERAPI</td>\n",
              "      <td>BPJS NON KONTROL</td>\n",
              "      <td>Selesai Kunjungan</td>\n",
              "      <td>PUSKESMAS PASAR KEMIS</td>\n",
              "      <td>NaN</td>\n",
              "      <td>NaN</td>\n",
              "    </tr>\n",
              "    <tr>\n",
              "      <th>9999</th>\n",
              "      <td>972529</td>\n",
              "      <td>2025-02-04 10:37:00</td>\n",
              "      <td>Rawat Jalan</td>\n",
              "      <td>1541794</td>\n",
              "      <td>MUHAMMAD RAZKA ATHAFARIZ</td>\n",
              "      <td>5 th 7 bl 19 hr</td>\n",
              "      <td>Laki-laki</td>\n",
              "      <td>KABUPATEN TANGERANG</td>\n",
              "      <td>CIKUPA</td>\n",
              "      <td>SUKA DAMAI</td>\n",
              "      <td>...</td>\n",
              "      <td>3603.0</td>\n",
              "      <td>3603030.0</td>\n",
              "      <td>3.603030e+09</td>\n",
              "      <td>Septia Dwi Kartika Ratri, A.Md.Kes</td>\n",
              "      <td>OKUPASI TERAPIS</td>\n",
              "      <td>BPJS KONTROL</td>\n",
              "      <td>Selesai Kunjungan</td>\n",
              "      <td>KLINIK BUNDA SEJATI</td>\n",
              "      <td>-6.214222</td>\n",
              "      <td>106.518733</td>\n",
              "    </tr>\n",
              "  </tbody>\n",
              "</table>\n",
              "<p>10000 rows × 22 columns</p>\n",
              "</div>"
            ],
            "text/plain": [
              "      ID REGISTRASI  TANGGAL REGISTRASI    INSTALASI    NO RM  \\\n",
              "0           1005201 2025-02-28 22:17:00  Rawat Jalan  1537083   \n",
              "1           1004938 2025-02-28 17:23:00  Rawat Jalan  1556812   \n",
              "2           1004819 2025-02-28 15:48:00  Rawat Jalan  1150976   \n",
              "3           1004707 2025-02-28 14:29:00  Rawat Jalan  1404569   \n",
              "4           1004704 2025-02-28 14:28:00  Rawat Jalan  1307390   \n",
              "...             ...                 ...          ...      ...   \n",
              "9995         976161 2025-02-22 09:11:00  Rawat Jalan  1506796   \n",
              "9996         976141 2025-02-15 13:23:00  Rawat Jalan  1317863   \n",
              "9997         972619 2025-02-04 18:24:00  Rawat Jalan  1556917   \n",
              "9998         972604 2025-02-04 11:26:00  Rawat Jalan  1322643   \n",
              "9999         972529 2025-02-04 10:37:00  Rawat Jalan  1541794   \n",
              "\n",
              "                          NAMA UMUR SAAT REGISTRASI JENIS KELAMIN  \\\n",
              "0                BUDI SUGIARTO      43 th 1 bl 1 hr     Laki-laki   \n",
              "1                       NENENG     49 th 6 bl 11 hr     Perempuan   \n",
              "2                 TRI OKTAPIAH      45 th 4 bl 3 hr     Perempuan   \n",
              "3                  DWI RIYANTO      36 th 4 bl 6 hr     Laki-laki   \n",
              "4       MUHAMAD DJAELANI SE,MM     71 th 6 bl 16 hr     Laki-laki   \n",
              "...                        ...                  ...           ...   \n",
              "9995     INA SULISTIYO PERTIWI      31 th 8 bl 0 hr     Perempuan   \n",
              "9996             DEDDY MULYADI     55 th 9 bl 22 hr     Laki-laki   \n",
              "9997          JONATHAN MULJADI     23 th 4 bl 29 hr     Laki-laki   \n",
              "9998           ITI BINTI ILANG      81 th 1 bl 3 hr     Perempuan   \n",
              "9999  MUHAMMAD RAZKA ATHAFARIZ      5 th 7 bl 19 hr     Laki-laki   \n",
              "\n",
              "                      KOTA     KECAMATAN       KELURAHAN  ...    CITY  \\\n",
              "0      KABUPATEN TANGERANG       KOSAMBI       JATIMULYA  ...  3603.0   \n",
              "1      KABUPATEN TANGERANG    KELAPA DUA       BENCONGAN  ...  3603.0   \n",
              "2      KABUPATEN TANGERANG  SINDANG JAYA   SINDANG PANON  ...  3603.0   \n",
              "3     KOTA JAKARTA SELATAN      CILANDAK  CIPETE SELATAN  ...  3171.0   \n",
              "4           KOTA TANGERANG       CIBODAS    CIBODAS BARU  ...  3671.0   \n",
              "...                    ...           ...             ...  ...     ...   \n",
              "9995   KABUPATEN TANGERANG         CURUG      SUKA BAKTI  ...  3603.0   \n",
              "9996        KOTA TANGERANG      KARAWACI        PABUARAN  ...  3671.0   \n",
              "9997   KABUPATEN TANGERANG      PANONGAN          CIAKAR  ...  3603.0   \n",
              "9998   KABUPATEN TANGERANG    PASARKEMIS    SINDANG SARI  ...  3603.0   \n",
              "9999   KABUPATEN TANGERANG        CIKUPA      SUKA DAMAI  ...  3603.0   \n",
              "\n",
              "       DISTRICT  SUB DISTRICT                                    DOKTER  \\\n",
              "0     3603210.0  3.603210e+09                       dr. Muslimah, Sp.PK   \n",
              "1     3603051.0  3.603051e+09                           Mohammad Sjifaa   \n",
              "2     3603121.0  3.603121e+09                           Mohammad Sjifaa   \n",
              "3     3171030.0  3.171030e+09                           Mohammad Sjifaa   \n",
              "4     3671041.0  3.671041e+09            dr. Isnada Putriani Said,Sp.KK   \n",
              "...         ...           ...                                       ...   \n",
              "9995  3603050.0  3.603050e+09  drg. Anggraeny Putri Sekar Palupi, Sp.BM   \n",
              "9996  3671031.0  3.671031e+09                   dr. Andy Nazarudin Sp.P   \n",
              "9997  3603040.0  3.603040e+09                 dr. Prasetyo Hariadi, SpP   \n",
              "9998  3603120.0  3.603120e+09                           Mohammad Sjifaa   \n",
              "9999  3603030.0  3.603030e+09        Septia Dwi Kartika Ratri, A.Md.Kes   \n",
              "\n",
              "             SPESIALIS            JENIS BPJS  \\\n",
              "0         LABORATORIUM  NON BPJS NON KONTROL   \n",
              "1          FISIOTERAPI      BPJS NON KONTROL   \n",
              "2          FISIOTERAPI      BPJS NON KONTROL   \n",
              "3          FISIOTERAPI      BPJS NON KONTROL   \n",
              "4     KULIT &  KELAMIN          BPJS KONTROL   \n",
              "...                ...                   ...   \n",
              "9995       BEDAH MULUT          BPJS KONTROL   \n",
              "9996              PARU          BPJS KONTROL   \n",
              "9997              PARU      BPJS NON KONTROL   \n",
              "9998       FISIOTERAPI      BPJS NON KONTROL   \n",
              "9999   OKUPASI TERAPIS          BPJS KONTROL   \n",
              "\n",
              "                                    STATUS KUNJUNGAN  \\\n",
              "0     Kunjungan tidak ada pembatalan dan Masih Aktif   \n",
              "1                                  Selesai Kunjungan   \n",
              "2                                  Selesai Kunjungan   \n",
              "3                                  Selesai Kunjungan   \n",
              "4                                  Selesai Kunjungan   \n",
              "...                                              ...   \n",
              "9995                               Selesai Kunjungan   \n",
              "9996                               Selesai Kunjungan   \n",
              "9997                               Selesai Kunjungan   \n",
              "9998                               Selesai Kunjungan   \n",
              "9999                               Selesai Kunjungan   \n",
              "\n",
              "                     PPK PERUJUK  Latitude   Longitude  \n",
              "0            PPK PERUJUK LAINNYA -6.094925  106.689260  \n",
              "1           PUSKESMAS JALAN EMAS -6.216419  106.604549  \n",
              "2     KLINIK MUTIARA BUNDA (JST) -6.166967  106.526736  \n",
              "3             PUSKESMAS KOTABUMI       NaN         NaN  \n",
              "4                 PUSKESMAS BAJA -6.191032  106.602669  \n",
              "...                          ...       ...         ...  \n",
              "9995                  KLINIK IMI -6.255398  106.577199  \n",
              "9996             PUSKESMAS BUGEL -6.190506  106.625546  \n",
              "9997      KLINIK DARMA NUSANTARA -6.281523  106.534493  \n",
              "9998       PUSKESMAS PASAR KEMIS       NaN         NaN  \n",
              "9999         KLINIK BUNDA SEJATI -6.214222  106.518733  \n",
              "\n",
              "[10000 rows x 22 columns]"
            ]
          },
          "execution_count": 13,
          "metadata": {},
          "output_type": "execute_result"
        }
      ],
      "source": [
        "geolocator = Nominatim(user_agent=\"my-geocoding-app/1.0\")  # Replace with your app name and version\n",
        "\n",
        "# Fungsi untuk mendapatkan koordinat\n",
        "def get_coordinates(row):\n",
        "    try:\n",
        "        location = geolocator.geocode(f\"{row['KOTA']}, {row['KELURAHAN']}, {row['KECAMATAN']}\")\n",
        "        if location:\n",
        "            return pd.Series([location.latitude, location.longitude])\n",
        "    except GeocoderTimedOut:\n",
        "        print(\"Error: Geocoding request timed out. Retrying...\")\n",
        "        time.sleep(5)  # Wait for 5 seconds before retrying\n",
        "        return get_coordinates(row)  # Retry the request\n",
        "    except GeocoderServiceError as e:\n",
        "        print(f\"Error: {e}. Retrying...\")\n",
        "        time.sleep(5)  # Wait for 5 seconds before retrying\n",
        "        return get_coordinates(row)  # Retry the request\n",
        "    return pd.Series([None, None])\n",
        "# Terapkan fungsi ke DataFrame\n",
        "tqdm.pandas()\n",
        "df[['Latitude', 'Longitude']] = df.progress_apply(get_coordinates, axis=1)\n",
        "\n",
        "# Tampilkan hasil\n",
        "df"
      ]
    },
    {
      "cell_type": "code",
      "execution_count": 16,
      "metadata": {
        "id": "GXjWcf1yuIgP"
      },
      "outputs": [],
      "source": [
        "df = df.dropna(subset=['Latitude', 'Longitude'], how='all')"
      ]
    },
    {
      "cell_type": "code",
      "execution_count": 17,
      "metadata": {
        "id": "qbZ1OShPuSpb"
      },
      "outputs": [],
      "source": [
        "# df.to_excel(\"geocoding.xlsx\", index=False)\n",
        "df.to_csv(\"geocoding.csv\", index=False)"
      ]
    }
  ],
  "metadata": {
    "colab": {
      "provenance": []
    },
    "kernelspec": {
      "display_name": "Python 3",
      "language": "python",
      "name": "python3"
    },
    "language_info": {
      "codemirror_mode": {
        "name": "ipython",
        "version": 3
      },
      "file_extension": ".py",
      "mimetype": "text/x-python",
      "name": "python",
      "nbconvert_exporter": "python",
      "pygments_lexer": "ipython3",
      "version": "3.11.4"
    }
  },
  "nbformat": 4,
  "nbformat_minor": 0
}
