{
  "cells": [
    {
      "cell_type": "code",
      "execution_count": 1,
      "metadata": {},
      "outputs": [
        {
          "name": "stdout",
          "output_type": "stream",
          "text": [
            "File GeoJSON yang disederhanakan telah disimpan ke: simplified_IDN_adm_2_kabkota.json\n"
          ]
        }
      ],
      "source": [
        "import json\n",
        "\n",
        "# Nama file input dan output\n",
        "input_file = \"IDN_adm_2_kabkota.json\"\n",
        "output_file = \"simplified_IDN_adm_2_kabkota.json\"\n",
        "\n",
        "# Baca file GeoJSON\n",
        "with open(input_file, \"r\") as f:\n",
        "    geojson_data = json.load(f)\n",
        "\n",
        "# Proses fitur untuk menyisakan properti tertentu\n",
        "for feature in geojson_data[\"features\"]:\n",
        "    properties = feature[\"properties\"]\n",
        "    # Sisakan hanya properti yang diinginkan\n",
        "    feature[\"properties\"] = {\n",
        "        \"NAME_1\": properties.get(\"NAME_1\"),\n",
        "        \"NAME_2\": properties.get(\"NAME_2\"),\n",
        "        \"TYPE_2\": properties.get(\"TYPE_2\"),\n",
        "        \"ENGTYPE_2\": properties.get(\"ENGTYPE_2\"),\n",
        "    }\n",
        "\n",
        "# Simpan GeoJSON yang telah disederhanakan\n",
        "with open(output_file, \"w\") as f:\n",
        "    json.dump(geojson_data, f, indent=4)\n",
        "\n",
        "print(f\"File GeoJSON yang disederhanakan telah disimpan ke: {output_file}\")"
      ]
    }
  ],
  "metadata": {
    "colab": {
      "provenance": []
    },
    "kernelspec": {
      "display_name": "Python 3",
      "language": "python",
      "name": "python3"
    },
    "language_info": {
      "codemirror_mode": {
        "name": "ipython",
        "version": 3
      },
      "file_extension": ".py",
      "mimetype": "text/x-python",
      "name": "python",
      "nbconvert_exporter": "python",
      "pygments_lexer": "ipython3",
      "version": "3.11.4"
    }
  },
  "nbformat": 4,
  "nbformat_minor": 0
}
